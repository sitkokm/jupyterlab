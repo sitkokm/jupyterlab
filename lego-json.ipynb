{
 "cells": [
  {
   "cell_type": "code",
   "execution_count": 1,
   "id": "f3fbcf60-7e40-4937-a347-3a71fab6dd65",
   "metadata": {},
   "outputs": [],
   "source": [
    "from selenium import webdriver\n",
    "from selenium.webdriver.chrome.service import Service\n",
    "from webdriver_manager.chrome import ChromeDriverManager\n",
    "from bs4 import BeautifulSoup\n",
    "import gspread\n",
    "from oauth2client.service_account import ServiceAccountCredentials\n",
    "import pandas as pd\n",
    "import time\n",
    "import re\n",
    "import json\n",
    "from urllib.request import urlretrieve\n",
    "import requests"
   ]
  },
  {
   "cell_type": "code",
   "execution_count": 2,
   "id": "2acabec8-dce7-4151-9913-7c2296449c35",
   "metadata": {},
   "outputs": [],
   "source": [
    "# Define the required scopes\n",
    "scopes = ['https://www.googleapis.com/auth/spreadsheets', 'https://www.googleapis.com/auth/drive']\n",
    "\n",
    "# Authorize the client\n",
    "creds = ServiceAccountCredentials.from_json_keyfile_name('lego-441023-0d2c9d44cde8.json', scopes)\n",
    "client = gspread.authorize(creds)\n",
    "\n",
    "# Open the Google Sheet\n",
    "spreadsheet = client.open('inwestycje') \n",
    "\n",
    "sheet = spreadsheet.worksheet('LEGO') "
   ]
  },
  {
   "cell_type": "code",
   "execution_count": 3,
   "id": "c98b7242-2ad9-4eff-babf-c884e2ce1d3e",
   "metadata": {},
   "outputs": [
    {
     "name": "stdout",
     "output_type": "stream",
     "text": [
      "Number of rows: 16\n",
      "  lp                                              check nr zestawu  \\\n",
      "0  1  https://promoklocki.pl/lego-brickheadz-40466-p...      40466   \n",
      "1  2  https://promoklocki.pl/lego-dc-super-heroes-76...      76238   \n",
      "2  3  https://promoklocki.pl/lego-harry-potter-76393...      76393   \n",
      "3  4  https://promoklocki.pl/lego-promocyjne-40512-z...      40512   \n",
      "4  5  https://promoklocki.pl/lego-brickheadz-40623-b...      40623   \n",
      "\n",
      "                                               nazwa  \\\n",
      "0                          Pandy na Chiński Nowy Rok   \n",
      "1  Maska Batmana z klasycznego serialu telewizyjnego   \n",
      "2                    Harry Potter i Hermiona Granger   \n",
      "3               Zabawa i styl - zestaw dodatkowy VIP   \n",
      "4                          Bohaterowie bitwy o Endor   \n",
      "\n",
      "                             nazwa ang           gtin cena wejściowa  \\\n",
      "0              Chinese New Year Pandas  5702016910704          53.99   \n",
      "1        Classic TV Series Batman Cowl  5702017072449         195.99   \n",
      "2  Harry Potter &amp; Hermione Granger  5702016971637         440.99   \n",
      "3        Fun and Funky VIP Add On Pack  5702017106625            0.0   \n",
      "4               Battle of Endor Heroes  5702017424057         179.99   \n",
      "\n",
      "  ilość sztuk suma zakupu miejsce zakupu  ...   teraz not teraz     zysk  \\\n",
      "0           5      269.95           lego  ...   120.0       120  122.26%   \n",
      "1           3      587.97           lego  ...   199.0     199.0    1.54%   \n",
      "2           2      881.98           lego  ...  519.99       489   17.91%   \n",
      "3           1           0           lego  ...    35.0     34.99  #DIV/0!   \n",
      "4           3      539.97           lego  ...   235.0       235   30.56%   \n",
      "\n",
      "   czas percent per year suma sprz czas inwestycji pkt vip               xyz  \n",
      "0  1.92           63.79%     600.0             711                            \n",
      "1  1.92            0.80%     597.0             711            suma wydanych:  \n",
      "2  1.92            9.35%   1039.98             711               5,023.78 zł  \n",
      "3  1.92          #DIV/0!      35.0             711                   6400.85  \n",
      "4  1.42           21.57%     705.0             526                   127.41%  \n",
      "\n",
      "[5 rows x 22 columns]\n"
     ]
    }
   ],
   "source": [
    "# Get all records from the sheet (headers are automatically used)\n",
    "data = sheet.get_all_records(head=1)\n",
    "\n",
    "df = pd.DataFrame(data)\n",
    "num_rows = df.shape[0]\n",
    "print(f\"Number of rows: {num_rows}\")\n",
    "df = df.iloc[:-1]  \n",
    "\n",
    "print(df.head())  "
   ]
  },
  {
   "cell_type": "code",
   "execution_count": 4,
   "id": "115d24e5-6e44-44b3-92e8-103faf478444",
   "metadata": {},
   "outputs": [],
   "source": [
    "def getJSON(url):\n",
    "    print(f\"URL passed to priceGen: {url}\") \n",
    "    # Setup the WebDriver\n",
    "    driver = webdriver.Chrome(service=Service(ChromeDriverManager().install()))\n",
    "    driver.get(url)\n",
    "    \n",
    "    # Get the page source after JavaScript is executed\n",
    "    page_content = driver.page_source\n",
    "    \n",
    "    # Parse the page content using BeautifulSoup\n",
    "    soup = BeautifulSoup(page_content, 'html.parser')\n",
    "    \n",
    "    # Extract the title of the page\n",
    "    title = soup.title.string\n",
    "    print(\"Tytuł strony:\", title)\n",
    "    \n",
    "    script_tag = soup.find('script', type='application/ld+json')\n",
    "    \n",
    "    if script_tag:\n",
    "        # Parse the JSON content\n",
    "        data = json.loads(script_tag.string)\n",
    "    else:\n",
    "        print(\"JSON data not found in <script> tag.\")\n",
    "        data = []\n",
    "    driver.quit()\n",
    "    data_dict = data[1]\n",
    "    return data_dict"
   ]
  },
  {
   "cell_type": "code",
   "execution_count": 5,
   "id": "82ef89d2-4805-4fe9-81b4-0d593693e141",
   "metadata": {},
   "outputs": [
    {
     "name": "stdout",
     "output_type": "stream",
     "text": [
      "URL passed to priceGen: https://promoklocki.pl/lego-brickheadz-40466-pandy-na-chinski-nowy-rok-p21201\n",
      "Tytuł strony: LEGO 40466 BrickHeadz Pandy na Chiński Nowy Rok - porównaj ceny - promoklocki.pl\n",
      "URL passed to priceGen: https://promoklocki.pl/lego-dc-super-heroes-76238-maska-batmana-z-klasycznego-serialu-telewizyjnego-p21439\n",
      "Tytuł strony: LEGO 76238 DC Super Heroes Maska Batmana z klasycznego serialu telewizyjnego - porównaj ceny - promoklocki.pl\n",
      "URL passed to priceGen: https://promoklocki.pl/lego-harry-potter-76393-harry-potter-i-hermiona-granger-p21316\n",
      "Tytuł strony: LEGO 76393 Harry Potter Harry Potter i Hermiona Granger - porównaj ceny - promoklocki.pl\n",
      "URL passed to priceGen: https://promoklocki.pl/lego-promocyjne-40512-zabawa-i-styl-zestaw-dodatkowy-vip-p22004\n",
      "Tytuł strony: LEGO 40512 Promocyjne Zabawa i styl - zestaw dodatkowy VIP - porównaj ceny - promoklocki.pl\n",
      "URL passed to priceGen: https://promoklocki.pl/lego-brickheadz-40623-bohaterowie-bitwy-o-endor-p22295\n",
      "Tytuł strony: LEGO 40623 BrickHeadz Bohaterowie bitwy o Endor - porównaj ceny - promoklocki.pl\n",
      "URL passed to priceGen: https://promoklocki.pl/lego-promocyjne-40589-plac-zabaw-ze-statkiem-pirackim-p22297\n",
      "Tytuł strony: LEGO 40589 Promocyjne Plac zabaw ze statkiem pirackim - porównaj ceny - promoklocki.pl\n",
      "URL passed to priceGen: https://promoklocki.pl/lego-brickheadz-40539-ahsoka-tano-p21600\n",
      "Tytuł strony: LEGO 40539 BrickHeadz Ahsoka Tano - porównaj ceny - promoklocki.pl\n",
      "URL passed to priceGen: https://promoklocki.pl/lego-brickheadz-40495-harry-hermiona-ron-i-hagrid-p21325\n",
      "Tytuł strony: LEGO 40495 BrickHeadz Harry, Hermiona, Ron i Hagrid - porównaj ceny - promoklocki.pl\n",
      "URL passed to priceGen: https://promoklocki.pl/lego-promocyjne-40607-letnia-frajda-zestaw-dodatkowy-vip-p22302\n",
      "Tytuł strony: LEGO 40607 Promocyjne Letnia frajda - zestaw dodatkowy VIP - porównaj ceny - promoklocki.pl\n",
      "URL passed to priceGen: https://promoklocki.pl/lego-promocyjne-40589-plac-zabaw-ze-statkiem-pirackim-p22297\n",
      "Tytuł strony: LEGO 40589 Promocyjne Plac zabaw ze statkiem pirackim - porównaj ceny - promoklocki.pl\n",
      "URL passed to priceGen: https://promoklocki.pl/lego-brickheadz-40560-profesorowie-hogwartu-p21844\n",
      "Tytuł strony: LEGO 40560 BrickHeadz Profesorowie Hogwartu - porównaj ceny - promoklocki.pl\n",
      "URL passed to priceGen: https://promoklocki.pl/lego-brickheadz-40539-ahsoka-tano-p21600\n",
      "Tytuł strony: LEGO 40539 BrickHeadz Ahsoka Tano - porównaj ceny - promoklocki.pl\n",
      "URL passed to priceGen: https://promoklocki.pl/lego-promocyjne-40585-swiat-cudow-p22208\n",
      "Tytuł strony: LEGO 40585 Promocyjne Świat cudów - porównaj ceny - promoklocki.pl\n",
      "URL passed to priceGen: https://promoklocki.pl/lego-ideas-21333-gwiazdzista-noc-vincenta-van-gogha-p21932\n",
      "Tytuł strony: LEGO 21333 Ideas „Gwiaździsta noc” Vincenta van Gogha - porównaj ceny - promoklocki.pl\n",
      "URL passed to priceGen: https://promoklocki.pl/lego-creator-expert-10283-nasa-discovery-space-shuttle-p21297\n",
      "Tytuł strony: LEGO 10283 Creator Expert NASA Discovery Space Shuttle - porównaj ceny - promoklocki.pl\n",
      "  lp                                              check nr zestawu  \\\n",
      "0  1  https://promoklocki.pl/lego-brickheadz-40466-p...      40466   \n",
      "1  2  https://promoklocki.pl/lego-dc-super-heroes-76...      76238   \n",
      "2  3  https://promoklocki.pl/lego-harry-potter-76393...      76393   \n",
      "3  4  https://promoklocki.pl/lego-promocyjne-40512-z...      40512   \n",
      "4  5  https://promoklocki.pl/lego-brickheadz-40623-b...      40623   \n",
      "\n",
      "                                               nazwa  \\\n",
      "0                          Pandy na Chiński Nowy Rok   \n",
      "1  Maska Batmana z klasycznego serialu telewizyjnego   \n",
      "2                    Harry Potter i Hermiona Granger   \n",
      "3               Zabawa i styl - zestaw dodatkowy VIP   \n",
      "4                          Bohaterowie bitwy o Endor   \n",
      "\n",
      "                             nazwa ang           gtin cena wejściowa  \\\n",
      "0              Chinese New Year Pandas  5702016910704          53.99   \n",
      "1        Classic TV Series Batman Cowl  5702017072449         195.99   \n",
      "2  Harry Potter &amp; Hermione Granger  5702016971637         440.99   \n",
      "3        Fun and Funky VIP Add On Pack  5702017106625            0.0   \n",
      "4               Battle of Endor Heroes  5702017424057         179.99   \n",
      "\n",
      "  ilość sztuk suma zakupu miejsce zakupu  ...   teraz not teraz     zysk  \\\n",
      "0           5      269.95           lego  ...   120.0       120  122.26%   \n",
      "1           3      587.97           lego  ...   199.0     199.0    1.54%   \n",
      "2           2      881.98           lego  ...  519.99       489   17.91%   \n",
      "3           1           0           lego  ...    35.0     34.99  #DIV/0!   \n",
      "4           3      539.97           lego  ...   235.0       235   30.56%   \n",
      "\n",
      "   czas percent per year suma sprz czas inwestycji pkt vip               xyz  \n",
      "0  1.92           63.79%     600.0             711                            \n",
      "1  1.92            0.80%     597.0             711            suma wydanych:  \n",
      "2  1.92            9.35%   1039.98             711               5,023.78 zł  \n",
      "3  1.92          #DIV/0!      35.0             711                   6400.85  \n",
      "4  1.42           21.57%     705.0             526                   127.41%  \n",
      "\n",
      "[5 rows x 22 columns]\n",
      "Time passed: 169.64 seconds\n"
     ]
    }
   ],
   "source": [
    "start_time = time.time() \n",
    "for index, row in df.iterrows():\n",
    "    data_dict = getJSON(row['check'])\n",
    "    # print(data_dict)\n",
    "    match = re.search(r'-\\s*(.*)', data_dict['name'])\n",
    "    if match:\n",
    "        df.loc[index, 'nazwa'] = match.group(1)\n",
    "    else:\n",
    "        df.loc[index, 'nazwa'] = data_dict['name']\n",
    "    match = re.search(r'\\((.*?)\\)', data_dict['description'])\n",
    "    if match:\n",
    "        df.loc[index, 'nazwa ang'] = match.group(1)\n",
    "    else: \n",
    "        df.loc[index, 'nazwa ang'] = df.loc[index, 'nazwa']\n",
    "    df.loc[index, 'gtin'] = data_dict['gtin']\n",
    "    df.loc[index, 'teraz'] = float(data_dict['offers']['lowPrice'])\n",
    "print(df.head())\n",
    "end_time = time.time()  # Record the end time\n",
    "\n",
    "# Calculate elapsed time\n",
    "elapsed_time = end_time - start_time\n",
    "print(f\"Time passed: {elapsed_time:.2f} seconds\")"
   ]
  },
  {
   "cell_type": "code",
   "execution_count": 6,
   "id": "f3b38c00-1c12-42b4-8c9f-62327e2d8e56",
   "metadata": {
    "scrolled": true
   },
   "outputs": [
    {
     "name": "stderr",
     "output_type": "stream",
     "text": [
      "C:\\Users\\sitko\\AppData\\Local\\Temp\\ipykernel_28872\\3983690384.py:21: DeprecationWarning: The order of arguments in worksheet.update() has changed. Please pass values first and range_name secondor used named arguments (range_name=, values=)\n",
      "  sheet.update(\n"
     ]
    },
    {
     "name": "stdout",
     "output_type": "stream",
     "text": [
      "Google Sheet updated successfully for specified columns.\n"
     ]
    }
   ],
   "source": [
    "# IT REMOVES FUNCTIONS - WRITES STRINGS - DONT DO THAT\n",
    "# values = df.values.tolist()\n",
    "\n",
    "# # Update the sheet with the new data (this will overwrite the current content)\n",
    "# # The first row is the header, so we write the header separately\n",
    "# sheet.update('A1', [df.columns.values.tolist()] + values)\n",
    "\n",
    "columns_to_update = ['nazwa', 'nazwa ang', 'gtin', 'teraz']\n",
    "df_update = df[columns_to_update]\n",
    "# Convert the DataFrame with only to-update cols to a list of lists (values only, without headers)\n",
    "values_to_update = df_update.values.tolist()\n",
    "\n",
    "# Get the column indexes from the header row (you can adjust this if needed)\n",
    "header_row = sheet.row_values(1)  # Read the header row from Google Sheets\n",
    "col_indexes = [header_row.index(col) + 1 for col in columns_to_update]  # +1 because gspread uses 1-based index\n",
    "\n",
    "# Update the Google Sheet with the new values\n",
    "for i, col_index in enumerate(col_indexes):\n",
    "    # Update the corresponding column in Google Sheets\n",
    "    range_to_update = f\"{chr(64 + col_index)}2:{chr(64 + col_index)}{len(df_update) + 1}\"\n",
    "    sheet.update(\n",
    "        range_to_update,\n",
    "        [[row[i]] for row in values_to_update],\n",
    "        value_input_option='USER_ENTERED'  # This ensures values are written with user-like interpretation\n",
    "    )\n",
    "\n",
    "print(\"Google Sheet updated successfully for specified columns.\")"
   ]
  },
  {
   "cell_type": "code",
   "execution_count": 11,
   "id": "d79b2d26-4c0e-49c8-9ec2-aaed8dfb6fca",
   "metadata": {},
   "outputs": [
    {
     "name": "stdout",
     "output_type": "stream",
     "text": [
      "Cash in = 5023.78\n",
      "Cash out = 6399.5\n",
      "Profit = 27.38%\n"
     ]
    }
   ],
   "source": [
    "# df.loc[:, 'cena wejściowa'] = df['cena wejściowa'].apply(clean_price)\n",
    "cashin = round((df['cena wejściowa'] * df['ilość sztuk']).sum(), 2)\n",
    "cashout = round((df['teraz'] * df['ilość sztuk']).sum(), 2)\n",
    "profit = round((cashout-cashin)/cashin*100, 2)\n",
    "\n",
    "print(f\"Cash in = {cashin}\")\n",
    "print(f\"Cash out = {cashout}\")\n",
    "print(f\"Profit = {profit}%\")"
   ]
  }
 ],
 "metadata": {
  "kernelspec": {
   "display_name": "Python [conda env:testenv]",
   "language": "python",
   "name": "conda-env-testenv-py"
  },
  "language_info": {
   "codemirror_mode": {
    "name": "ipython",
    "version": 3
   },
   "file_extension": ".py",
   "mimetype": "text/x-python",
   "name": "python",
   "nbconvert_exporter": "python",
   "pygments_lexer": "ipython3",
   "version": "3.11.10"
  }
 },
 "nbformat": 4,
 "nbformat_minor": 5
}
