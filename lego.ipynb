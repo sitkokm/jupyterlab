{
 "cells": [
  {
   "cell_type": "code",
   "execution_count": 3,
   "id": "f3fbcf60-7e40-4937-a347-3a71fab6dd65",
   "metadata": {},
   "outputs": [],
   "source": [
    "from selenium import webdriver\n",
    "from selenium.webdriver.chrome.service import Service\n",
    "from webdriver_manager.chrome import ChromeDriverManager\n",
    "from bs4 import BeautifulSoup\n",
    "import gspread\n",
    "from oauth2client.service_account import ServiceAccountCredentials\n",
    "import pandas as pd\n",
    "import time\n",
    "import re"
   ]
  },
  {
   "cell_type": "code",
   "execution_count": 53,
   "id": "2acabec8-dce7-4151-9913-7c2296449c35",
   "metadata": {},
   "outputs": [],
   "source": [
    "# Define the required scopes\n",
    "scopes = ['https://www.googleapis.com/auth/spreadsheets', 'https://www.googleapis.com/auth/drive']\n",
    "\n",
    "# Authorize the client\n",
    "creds = ServiceAccountCredentials.from_json_keyfile_name('lego-441023-0d2c9d44cde8.json', scopes)\n",
    "client = gspread.authorize(creds)\n",
    "\n",
    "# Open the Google Sheet by name\n",
    "spreadsheet = client.open('inwestycje')  # Replace with the actual name of your sheet\n",
    "\n",
    "# Access the sheet by name\n",
    "sheet = spreadsheet.worksheet('LEGO')  # Replace 'lego' with the exact name of the sheet"
   ]
  },
  {
   "cell_type": "code",
   "execution_count": 54,
   "id": "c98b7242-2ad9-4eff-babf-c884e2ce1d3e",
   "metadata": {},
   "outputs": [
    {
     "name": "stdout",
     "output_type": "stream",
     "text": [
      "Number of rows: 14\n",
      "  lp                                      nazwa zestawu nr zestawu  \\\n",
      "0  1                          Pandy na Chiński Nowy Rok      40466   \n",
      "1  2  Maska Batmana z klasycznego serialu telewizyjnego      76238   \n",
      "2  3                    Harry Potter i Hermiona Granger      76393   \n",
      "3  4               Zabawa i styl — zestaw dodatkowy VIP      40512   \n",
      "4  5                          Bohaterowie bitwy o Endor      40623   \n",
      "\n",
      "        seria cena wejściowa ilość sztuk suma zakupu miejsce zakupu  \\\n",
      "0  BrickHeadz          53.99           5   269.95 zł           lego   \n",
      "1      Batman         195.99           3   587.97 zł           lego   \n",
      "2  BrickHeadz         440.99           2   881.98 zł           lego   \n",
      "3      Gratis            0.0           1     0.00 zł           lego   \n",
      "4  BrickHeadz         179.99           3   539.97 zł           lego   \n",
      "\n",
      "   data kupna data sprzedania  teraz     zysk suma sprz czas inwestycji  \\\n",
      "0  29/11/2022                    120  222.26%     600.0             710   \n",
      "1  29/11/2022                  199.0  101.54%     597.0             710   \n",
      "2  29/11/2022                    489  110.89%     978.0             710   \n",
      "3  29/11/2022                  34.99  #DIV/0!     34.99             710   \n",
      "4  02/06/2023                    235  130.56%     705.0             525   \n",
      "\n",
      "  pkt vip                                              check             xyz  \n",
      "0          https://promoklocki.pl/lego-brickheadz-40466-p...                  \n",
      "1          https://promoklocki.pl/lego-dc-super-heroes-76...  suma wydanych:  \n",
      "2          https://promoklocki.pl/lego-harry-potter-76393...     3,044.78 zł  \n",
      "3          https://promoklocki.pl/lego-promocyjne-40512-z...         4421.51  \n",
      "4          https://promoklocki.pl/lego-brickheadz-40623-b...         145.22%  \n"
     ]
    }
   ],
   "source": [
    "# Get all records from the sheet (headers are automatically used)\n",
    "data = sheet.get_all_records(head=1)\n",
    "\n",
    "# Convert the data into a pandas DataFrame\n",
    "df = pd.DataFrame(data)\n",
    "num_rows = df.shape[0]\n",
    "print(f\"Number of rows: {num_rows}\")\n",
    "df = df.iloc[:-1]  # Drops the last row\n",
    "\n",
    "# Display the DataFrame to check the result\n",
    "print(df.head())  # Show the first few rows of the DataFrame\n"
   ]
  },
  {
   "cell_type": "code",
   "execution_count": null,
   "id": "bb37e519-4ddd-4649-afb8-d75347f3d47c",
   "metadata": {},
   "outputs": [],
   "source": []
  },
  {
   "cell_type": "code",
   "execution_count": 9,
   "id": "45ad4066-4626-442c-ac95-62ec286d036d",
   "metadata": {},
   "outputs": [],
   "source": [
    "def priceGen(url):\n",
    "    print(f\"URL passed to priceGen: {url}\") \n",
    "    # Setup the WebDriver\n",
    "    driver = webdriver.Chrome(service=Service(ChromeDriverManager().install()))\n",
    "    \n",
    "    driver.get(url)\n",
    "    \n",
    "    # Get the page source after JavaScript is executed\n",
    "    page_content = driver.page_source\n",
    "    \n",
    "    # Parse the page content using BeautifulSoup\n",
    "    soup = BeautifulSoup(page_content, 'html.parser')\n",
    "    \n",
    "    # Extract the title of the page\n",
    "    title = soup.title.string\n",
    "    print(\"Tytuł strony:\", title)\n",
    "    \n",
    " # Locate the section where prices are inside <dl class=\"row m-0\">\n",
    "    price_section = soup.find('dl', class_='row m-0')\n",
    "    \n",
    "    if price_section:\n",
    "        # Find the price by targeting the <a> tag with class 'bprice'\n",
    "        price_tag = price_section.find('a', class_='bprice')\n",
    "        \n",
    "        if price_tag:\n",
    "            price = price_tag.get_text()  # Extract the price text\n",
    "        else:\n",
    "            price = 'Price not found'\n",
    "        print(price)\n",
    "    else:\n",
    "        price = 'Price section not found'\n",
    "    # Quit the driver\n",
    "    driver.quit()\n",
    "    return price\n"
   ]
  },
  {
   "cell_type": "code",
   "execution_count": 11,
   "id": "d7d477e6-dff9-4c9d-b74b-1b0b0777cbbf",
   "metadata": {},
   "outputs": [],
   "source": [
    "# Define clean_price with debug information\n",
    "def clean_price(price_text):\n",
    "    # Print the type and content of price_text to understand the format\n",
    "    print(\"Debug:\", type(price_text), price_text)\n",
    "\n",
    "    # Ensure we only process strings\n",
    "    if isinstance(price_text, str):\n",
    "        # Remove ' zł' if present\n",
    "        price_text = price_text.replace(\" zł\", \"\")\n",
    "        # Replace comma with dot\n",
    "        price_text = price_text.replace(\",\", \".\")\n",
    "        # Convert to a float\n",
    "        return float(price_text)\n",
    "    else:\n",
    "        return float(\"nan\")  # Return NaN for any non-string values\n"
   ]
  },
  {
   "cell_type": "code",
   "execution_count": 15,
   "id": "b7158181-95c6-490b-bbdd-2ef45171b939",
   "metadata": {},
   "outputs": [
    {
     "name": "stdout",
     "output_type": "stream",
     "text": [
      "URL passed to priceGen: https://promoklocki.pl/lego-brickheadz-40466-pandy-na-chinski-nowy-rok-p21201\n",
      "Tytuł strony: LEGO 40466 BrickHeadz Pandy na Chiński Nowy Rok - porównaj ceny - promoklocki.pl\n",
      "120,00 zł\n",
      "URL passed to priceGen: https://promoklocki.pl/lego-dc-super-heroes-76238-maska-batmana-z-klasycznego-serialu-telewizyjnego-p21439\n",
      "Tytuł strony: LEGO 76238 DC Super Heroes Maska Batmana z klasycznego serialu telewizyjnego - porównaj ceny - promoklocki.pl\n",
      "199,00 zł\n",
      "URL passed to priceGen: https://promoklocki.pl/lego-harry-potter-76393-harry-potter-i-hermiona-granger-p21316\n",
      "Tytuł strony: LEGO 76393 Harry Potter Harry Potter i Hermiona Granger - porównaj ceny - promoklocki.pl\n",
      "489,00 zł\n",
      "URL passed to priceGen: https://promoklocki.pl/lego-promocyjne-40512-zabawa-i-styl-zestaw-dodatkowy-vip-p22004\n",
      "Tytuł strony: LEGO 40512 Promocyjne Zabawa i styl - zestaw dodatkowy VIP - porównaj ceny - promoklocki.pl\n",
      "34,99 zł\n",
      "URL passed to priceGen: https://promoklocki.pl/lego-brickheadz-40623-bohaterowie-bitwy-o-endor-p22295\n",
      "Tytuł strony: LEGO 40623 BrickHeadz Bohaterowie bitwy o Endor - porównaj ceny - promoklocki.pl\n",
      "235,00 zł\n",
      "URL passed to priceGen: https://promoklocki.pl/lego-promocyjne-40589-plac-zabaw-ze-statkiem-pirackim-p22297\n",
      "Tytuł strony: LEGO 40589 Promocyjne Plac zabaw ze statkiem pirackim - porównaj ceny - promoklocki.pl\n",
      "75,00 zł\n",
      "URL passed to priceGen: https://promoklocki.pl/lego-brickheadz-40539-ahsoka-tano-p21600\n",
      "Tytuł strony: LEGO 40539 BrickHeadz Ahsoka Tano - porównaj ceny - promoklocki.pl\n",
      "79,00 zł\n",
      "URL passed to priceGen: https://promoklocki.pl/lego-brickheadz-40495-harry-hermiona-ron-i-hagrid-p21325\n",
      "Tytuł strony: LEGO 40495 BrickHeadz Harry, Hermiona, Ron i Hagrid - porównaj ceny - promoklocki.pl\n",
      "182,69 zł\n",
      "URL passed to priceGen: https://promoklocki.pl/lego-promocyjne-40607-letnia-frajda-zestaw-dodatkowy-vip-p22302\n",
      "Tytuł strony: LEGO 40607 Promocyjne Letnia frajda - zestaw dodatkowy VIP - porównaj ceny - promoklocki.pl\n",
      "58,99 zł\n",
      "URL passed to priceGen: https://promoklocki.pl/lego-promocyjne-40589-plac-zabaw-ze-statkiem-pirackim-p22297\n",
      "Tytuł strony: LEGO 40589 Promocyjne Plac zabaw ze statkiem pirackim - porównaj ceny - promoklocki.pl\n",
      "75,00 zł\n",
      "URL passed to priceGen: https://promoklocki.pl/lego-brickheadz-40560-profesorowie-hogwartu-p21844\n",
      "Tytuł strony: LEGO 40560 BrickHeadz Profesorowie Hogwartu - porównaj ceny - promoklocki.pl\n",
      "239,90 zł\n",
      "URL passed to priceGen: https://promoklocki.pl/lego-brickheadz-40539-ahsoka-tano-p21600\n",
      "Tytuł strony: LEGO 40539 BrickHeadz Ahsoka Tano - porównaj ceny - promoklocki.pl\n",
      "79,00 zł\n",
      "URL passed to priceGen: https://promoklocki.pl/lego-promocyjne-40585-swiat-cudow-p22208\n",
      "Tytuł strony: LEGO 40585 Promocyjne Świat cudów - porównaj ceny - promoklocki.pl\n",
      "114,56 zł\n",
      "Time passed: 126.42 seconds\n"
     ]
    }
   ],
   "source": [
    "start_time = time.time() \n",
    "df['teraz'] = df.apply(lambda row: priceGen(row['check']), axis=1)\n",
    "end_time = time.time()  # Record the end time\n",
    "\n",
    "# Calculate elapsed time\n",
    "elapsed_time = end_time - start_time\n",
    "print(f\"Time passed: {elapsed_time:.2f} seconds\")"
   ]
  },
  {
   "cell_type": "code",
   "execution_count": 16,
   "id": "0b1bad61-70e8-4392-af02-326f082ed0ef",
   "metadata": {},
   "outputs": [
    {
     "name": "stdout",
     "output_type": "stream",
     "text": [
      "Debug: <class 'str'> 120,00 zł\n",
      "Debug: <class 'str'> 199,00 zł\n",
      "Debug: <class 'str'> 489,00 zł\n",
      "Debug: <class 'str'> 34,99 zł\n",
      "Debug: <class 'str'> 235,00 zł\n",
      "Debug: <class 'str'> 75,00 zł\n",
      "Debug: <class 'str'> 79,00 zł\n",
      "Debug: <class 'str'> 182,69 zł\n",
      "Debug: <class 'str'> 58,99 zł\n",
      "Debug: <class 'str'> 75,00 zł\n",
      "Debug: <class 'str'> 239,90 zł\n",
      "Debug: <class 'str'> 79,00 zł\n",
      "Debug: <class 'str'> 114,56 zł\n",
      "0      120.0\n",
      "1      199.0\n",
      "2      489.0\n",
      "3      34.99\n",
      "4      235.0\n",
      "5       75.0\n",
      "6       79.0\n",
      "7     182.69\n",
      "8      58.99\n",
      "9       75.0\n",
      "10     239.9\n",
      "11      79.0\n",
      "12    114.56\n",
      "Name: teraz, dtype: object\n"
     ]
    }
   ],
   "source": [
    "# Test clean_price on your data\n",
    "df.loc[:, 'teraz'] = df['teraz'].apply(clean_price)\n",
    "\n",
    "print(df['teraz'])"
   ]
  },
  {
   "cell_type": "code",
   "execution_count": 19,
   "id": "33375246-1d0c-42e1-8aca-93bac56d7348",
   "metadata": {},
   "outputs": [
    {
     "name": "stdout",
     "output_type": "stream",
     "text": [
      "Google Sheet 'teraz' column updated successfully.\n"
     ]
    }
   ],
   "source": [
    "# Ensure that 'df['teraz']' contains the updated prices\n",
    "values = df['teraz'].values.tolist()\n",
    "\n",
    "# Get the headers of the sheet to locate the 'teraz' column\n",
    "headers = sheet.row_values(1)  # Assuming the first row contains headers\n",
    "\n",
    "# Find the column index for 'teraz'\n",
    "teraz_col_index = headers.index('teraz') + 1  # Adding 1 because gspread is 1-indexed\n",
    "\n",
    "# Assuming 'teraz' values should be updated starting from row 2 (if row 1 is for headers)\n",
    "for i, value in enumerate(values, start=2):  # Start from row 2 to skip the header\n",
    "    sheet.update_cell(i, teraz_col_index, value)  # Update the cell in the 'teraz' column\n",
    "\n",
    "print(\"Google Sheet 'teraz' column updated successfully.\")\n"
   ]
  },
  {
   "cell_type": "code",
   "execution_count": 29,
   "id": "8097266c-ebf5-4473-9cc6-76124a140393",
   "metadata": {},
   "outputs": [
    {
     "name": "stdout",
     "output_type": "stream",
     "text": [
      "URL passed to priceGen: https://promoklocki.pl/lego-brickheadz-40466-pandy-na-chinski-nowy-rok-p21201\n",
      "Tytuł strony: LEGO 40466 BrickHeadz Pandy na Chiński Nowy Rok - porównaj ceny - promoklocki.pl\n",
      "120,00 zł\n"
     ]
    },
    {
     "name": "stderr",
     "output_type": "stream",
     "text": [
      "C:\\Users\\sitko\\AppData\\Local\\Temp\\ipykernel_12204\\1049080703.py:3: FutureWarning: Setting an item of incompatible dtype is deprecated and will raise an error in a future version of pandas. Value '120,00 zł' has dtype incompatible with float64, please explicitly cast to a compatible dtype first.\n",
      "  df.loc[index, 'teraz'] = priceGen(df.loc[index, 'check'])\n"
     ]
    },
    {
     "name": "stdout",
     "output_type": "stream",
     "text": [
      "URL passed to priceGen: https://promoklocki.pl/lego-dc-super-heroes-76238-maska-batmana-z-klasycznego-serialu-telewizyjnego-p21439\n",
      "Tytuł strony: LEGO 76238 DC Super Heroes Maska Batmana z klasycznego serialu telewizyjnego - porównaj ceny - promoklocki.pl\n",
      "199,00 zł\n",
      "URL passed to priceGen: https://promoklocki.pl/lego-harry-potter-76393-harry-potter-i-hermiona-granger-p21316\n",
      "Tytuł strony: LEGO 76393 Harry Potter Harry Potter i Hermiona Granger - porównaj ceny - promoklocki.pl\n",
      "489,00 zł\n",
      "URL passed to priceGen: https://promoklocki.pl/lego-promocyjne-40512-zabawa-i-styl-zestaw-dodatkowy-vip-p22004\n",
      "Tytuł strony: LEGO 40512 Promocyjne Zabawa i styl - zestaw dodatkowy VIP - porównaj ceny - promoklocki.pl\n",
      "34,99 zł\n",
      "URL passed to priceGen: https://promoklocki.pl/lego-brickheadz-40623-bohaterowie-bitwy-o-endor-p22295\n",
      "Tytuł strony: LEGO 40623 BrickHeadz Bohaterowie bitwy o Endor - porównaj ceny - promoklocki.pl\n",
      "235,00 zł\n",
      "                                               check      teraz\n",
      "0  https://promoklocki.pl/lego-brickheadz-40466-p...  120,00 zł\n",
      "1  https://promoklocki.pl/lego-dc-super-heroes-76...  199,00 zł\n",
      "2  https://promoklocki.pl/lego-harry-potter-76393...  489,00 zł\n",
      "3  https://promoklocki.pl/lego-promocyjne-40512-z...   34,99 zł\n",
      "4  https://promoklocki.pl/lego-brickheadz-40623-b...  235,00 zł\n"
     ]
    }
   ],
   "source": [
    "# # Loop through the first 5 rows and set the 'teraz' column\n",
    "# for index in range(5):\n",
    "#     df.loc[index, 'teraz'] = priceGen(df.loc[index, 'check'])\n",
    "\n",
    "# # Show the results for the first 5 rows\n",
    "# print(df.head(5)[['check', 'teraz']])\n"
   ]
  },
  {
   "cell_type": "code",
   "execution_count": 57,
   "id": "bfb4b897-da21-4fad-b230-1ec523056b86",
   "metadata": {},
   "outputs": [
    {
     "name": "stdout",
     "output_type": "stream",
     "text": [
      "0      53.99\n",
      "1     195.99\n",
      "2     440.99\n",
      "3        0.0\n",
      "4     179.99\n",
      "5        0.0\n",
      "6      44.99\n",
      "7     119.99\n",
      "8        0.0\n",
      "9        0.0\n",
      "10    179.99\n",
      "11     44.99\n",
      "12       0.0\n",
      "Name: cena wejściowa, dtype: object\n"
     ]
    }
   ],
   "source": [
    "print(df['cena wejściowa'])"
   ]
  },
  {
   "cell_type": "code",
   "execution_count": 71,
   "id": "d79b2d26-4c0e-49c8-9ec2-aaed8dfb6fca",
   "metadata": {},
   "outputs": [
    {
     "name": "stdout",
     "output_type": "stream",
     "text": [
      "Cash in = 3044.78\n",
      "Cash out = 4421.51\n",
      "Profit = 45.22%\n"
     ]
    }
   ],
   "source": [
    "# df.loc[:, 'cena wejściowa'] = df['cena wejściowa'].apply(clean_price)\n",
    "cashin = round((df['cena wejściowa'] * df['ilość sztuk']).sum(), 2)\n",
    "cashout = round((df['teraz'] * df['ilość sztuk']).sum(), 2)\n",
    "profit = round((cashout-cashin)/cashin*100, 2)\n",
    "\n",
    "print(f\"Cash in = {cashin}\")\n",
    "print(f\"Cash out = {cashout}\")\n",
    "print(f\"Profit = {profit}%\")"
   ]
  }
 ],
 "metadata": {
  "kernelspec": {
   "display_name": "Python [conda env:testenv]",
   "language": "python",
   "name": "conda-env-testenv-py"
  },
  "language_info": {
   "codemirror_mode": {
    "name": "ipython",
    "version": 3
   },
   "file_extension": ".py",
   "mimetype": "text/x-python",
   "name": "python",
   "nbconvert_exporter": "python",
   "pygments_lexer": "ipython3",
   "version": "3.11.10"
  }
 },
 "nbformat": 4,
 "nbformat_minor": 5
}
