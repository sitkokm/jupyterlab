{
 "cells": [
  {
   "cell_type": "code",
   "execution_count": 1,
   "id": "2463a688-8b54-415d-9fb7-a435479547ec",
   "metadata": {},
   "outputs": [],
   "source": [
    "from datasets import load_dataset, DatasetDict\n",
    "from datasets import Dataset \n",
    "\n",
    "import tensorflow as tf\n",
    "import pandas as pd\n",
    "import seaborn as sns\n",
    "import numpy as np\n",
    "import matplotlib.pyplot as plt\n",
    "\n",
    "from sklearn.linear_model import LogisticRegression\n",
    "from sklearn.metrics import accuracy_score, confusion_matrix, classification_report\n",
    "\n",
    "from transformers import TFAutoModel, AutoTokenizer\n",
    "from transformers import DataCollatorWithPadding\n",
    "from transformers import TFAutoModelForSequenceClassification\n",
    "\n",
    "import time\n",
    "import pickle\n",
    "import os"
   ]
  },
  {
   "cell_type": "code",
   "execution_count": 2,
   "id": "c7c2efcf-23e3-4e96-89e3-77a038a47640",
   "metadata": {},
   "outputs": [],
   "source": [
    "def spickluj(df, file_path):\n",
    "    try:\n",
    "        pickle.dump(df, open(file_path, \"wb\"))\n",
    "        print(\"Zapisano pomyślnie!\")\n",
    "    except Exception as e:\n",
    "        print(f\"Błąd przy zapisie: {e}\")\n",
    "    # upewnij sie :)\n",
    "    if os.path.exists(file_path):\n",
    "        print(f\"Plik istnieje! Rozmiar: {os.path.getsize(file_path)} bajtów\")\n",
    "    else:\n",
    "        print(\"Plik nie istnieje!\")\n",
    "\n",
    "def odpickluj(df, file_path):\n",
    "    with open(file_path,'rb') as f:\n",
    "        df = pickle.load(f)"
   ]
  },
  {
   "cell_type": "code",
   "execution_count": 3,
   "id": "c7830cd8-94f4-4982-abae-feab960b3011",
   "metadata": {},
   "outputs": [
    {
     "data": {
      "text/plain": [
       "20491"
      ]
     },
     "execution_count": 3,
     "metadata": {},
     "output_type": "execute_result"
    }
   ],
   "source": [
    "# Load dataset\n",
    "df = pd.read_csv(\"tripadvisor_hotel_reviews.csv.zip\", compression='zip')\n",
    "df.shape[0]"
   ]
  },
  {
   "cell_type": "code",
   "execution_count": 4,
   "id": "fee2f725-0ea2-42e1-960e-13de2933bc28",
   "metadata": {},
   "outputs": [
    {
     "data": {
      "image/png": "[encoded data removed]",
      "text/plain": [
       "<Figure size 640x480 with 1 Axes>"
      ]
     },
     "metadata": {},
     "output_type": "display_data"
    },
    {
     "data": {
      "text/plain": [
       "Rating\n",
       "5    9054\n",
       "4    6039\n",
       "3    2184\n",
       "2    1793\n",
       "1    1421\n",
       "Name: count, dtype: int64"
      ]
     },
     "execution_count": 4,
     "metadata": {},
     "output_type": "execute_result"
    }
   ],
   "source": [
    "sns.countplot(x=df['Rating'])\n",
    "plt.xlabel('Value')\n",
    "plt.ylabel('Count')\n",
    "plt.title('Count of 0s and 1s')\n",
    "plt.show()\n",
    "counts = df['Rating'].value_counts()\n",
    "counts"
   ]
  },
  {
   "cell_type": "markdown",
   "id": "1b07e484-2bfc-4627-a7a9-33fade4b72f3",
   "metadata": {},
   "source": [
    "# Tokenizacja i trenowanie"
   ]
  },
  {
   "cell_type": "code",
   "execution_count": null,
   "id": "6f43f16d-1a7f-4d8e-8a36-3fe33cb4adc4",
   "metadata": {
    "editable": true,
    "slideshow": {
     "slide_type": ""
    },
    "tags": []
   },
   "outputs": [],
   "source": [
    "df = df[:4000]"
   ]
  },
  {
   "cell_type": "code",
   "execution_count": null,
   "id": "7b03d7b6-7ea8-48bc-b7e6-81ecf6de00e8",
   "metadata": {},
   "outputs": [],
   "source": [
    "# Split into train/test/validation datasets - hmm dwa razy kod error\n",
    "dataset = Dataset.from_pandas(df)\n",
    "\n",
    "# Podział: 80% train, 10% validation, 10% test\n",
    "train_test_split = dataset.train_test_split(test_size=0.2, seed=42, shuffle=True)\n",
    "train_valid_split = train_test_split[\"test\"].train_test_split(test_size=0.5, seed=42, shuffle=True)\n",
    "\n",
    "# Create a new DatasetDict\n",
    "dataset = DatasetDict({\n",
    "    \"train\": train_test_split[\"train\"],\n",
    "    \"validation\": train_valid_split[\"train\"],\n",
    "    \"test\": train_valid_split[\"test\"]\n",
    "})\n",
    "\n",
    "# Check dataset sizes\n",
    "print(dataset)"
   ]
  },
  {
   "cell_type": "code",
   "execution_count": null,
   "id": "7f10c469-cfde-4132-aedd-c0042c085d5c",
   "metadata": {},
   "outputs": [],
   "source": [
    "model = \"distilbert-base-uncased\"\n",
    "\n",
    "tokenizer = AutoTokenizer.from_pretrained(model)"
   ]
  },
  {
   "cell_type": "code",
   "execution_count": null,
   "id": "42c64b6b-9e20-4274-b26b-927716abe2d4",
   "metadata": {},
   "outputs": [],
   "source": [
    "def tokenize(batch):\n",
    "    return tokenizer(batch[\"Review\"], padding=True, truncation=True)\n",
    "\n",
    "dataset_encoded = dataset.map(tokenize, batched=True, batch_size=None)\n",
    "dataset_encoded"
   ]
  },
  {
   "cell_type": "code",
   "execution_count": null,
   "id": "41e0caf7-bf16-4f2e-87f7-01198686b8d3",
   "metadata": {},
   "outputs": [],
   "source": [
    "dataset_encoded[\"train\"].features"
   ]
  },
  {
   "cell_type": "code",
   "execution_count": 20,
   "id": "521735a1-8677-430d-af17-cdfbe6dffade",
   "metadata": {},
   "outputs": [
    {
     "name": "stderr",
     "output_type": "stream",
     "text": [
      "Some weights of the PyTorch model were not used when initializing the TF 2.0 model TFDistilBertForSequenceClassification: ['vocab_layer_norm.weight', 'vocab_layer_norm.bias', 'vocab_projector.bias', 'vocab_transform.bias', 'vocab_transform.weight']\n",
      "- This IS expected if you are initializing TFDistilBertForSequenceClassification from a PyTorch model trained on another task or with another architecture (e.g. initializing a TFBertForSequenceClassification model from a BertForPreTraining model).\n",
      "- This IS NOT expected if you are initializing TFDistilBertForSequenceClassification from a PyTorch model that you expect to be exactly identical (e.g. initializing a TFBertForSequenceClassification model from a BertForSequenceClassification model).\n",
      "Some weights or buffers of the TF 2.0 model TFDistilBertForSequenceClassification were not initialized from the PyTorch model and are newly initialized: ['pre_classifier.weight', 'pre_classifier.bias', 'classifier.weight', 'classifier.bias']\n",
      "You should probably TRAIN this model on a down-stream task to be able to use it for predictions and inference.\n"
     ]
    }
   ],
   "source": [
    "tf_model = (TFAutoModelForSequenceClassification.from_pretrained(model, num_labels=6))"
   ]
  },
  {
   "cell_type": "code",
   "execution_count": 21,
   "id": "f8712844-670e-4522-a478-2969fb84e485",
   "metadata": {},
   "outputs": [
    {
     "name": "stderr",
     "output_type": "stream",
     "text": [
      "C:\\Users\\sitko\\anaconda3\\envs\\transformer\\Lib\\site-packages\\datasets\\arrow_dataset.py:405: FutureWarning: The output of `to_tf_dataset` will change when a passing single element list for `labels` or `columns` in the next datasets version. To return a tuple structure rather than dict, pass a single string.\n",
      "Old behaviour: columns=['a'], labels=['labels'] -> (tf.Tensor, tf.Tensor)  \n",
      "             : columns='a', labels='labels' -> (tf.Tensor, tf.Tensor)  \n",
      "New behaviour: columns=['a'],labels=['labels'] -> ({'a': tf.Tensor}, {'labels': tf.Tensor})  \n",
      "             : columns='a', labels='labels' -> (tf.Tensor, tf.Tensor) \n",
      "  warnings.warn(\n"
     ]
    },
    {
     "data": {
      "text/plain": [
       "<_PrefetchDataset element_spec=({'input_ids': TensorSpec(shape=(None, 512), dtype=tf.int64, name=None), 'attention_mask': TensorSpec(shape=(None, 512), dtype=tf.int64, name=None)}, TensorSpec(shape=(None,), dtype=tf.int64, name=None))>"
      ]
     },
     "execution_count": 21,
     "metadata": {},
     "output_type": "execute_result"
    }
   ],
   "source": [
    "# The column names to convert to TensorFlow tensors\n",
    "tokenizer_columns = tokenizer.model_input_names\n",
    "\n",
    "# Define a batch size\n",
    "batch_size = 64\n",
    "lr = 5e-5\n",
    "epochs = 2\n",
    "\n",
    "data_collator = DataCollatorWithPadding(tokenizer=tokenizer, return_tensors=\"tf\")\n",
    "\n",
    "tf_train_dataset = dataset_encoded[\"train\"].to_tf_dataset(columns=tokenizer_columns, \n",
    "                                                           label_cols=[\"Rating\"], shuffle=True,\n",
    "                                                           batch_size=batch_size,\n",
    "                                                           collate_fn=data_collator)\n",
    "tf_eval_dataset = dataset_encoded[\"validation\"].to_tf_dataset(columns=tokenizer_columns, \n",
    "                                                               label_cols=[\"Rating\"], shuffle=False,\n",
    "                                                               batch_size=batch_size,\n",
    "                                                               collate_fn=data_collator)\n",
    "\n",
    "tf_train_dataset"
   ]
  },
  {
   "cell_type": "code",
   "execution_count": null,
   "id": "291518e5-efae-4293-81f7-427d68d5de0d",
   "metadata": {},
   "outputs": [
    {
     "name": "stdout",
     "output_type": "stream",
     "text": [
      "Epoch 1/2\n"
     ]
    }
   ],
   "source": [
    "start_time = time.time()\n",
    "\n",
    "# optimization\n",
    "lr_scheduler = tf.keras.callbacks.LearningRateScheduler(lambda epoch: lr * 0.1 if epoch % 10 == 0 else lr)\n",
    "# Early stopping and saving the best model\n",
    "early_stopping = tf.keras.callbacks.EarlyStopping(monitor='val_loss', patience=3, restore_best_weights=True)\n",
    "model_checkpoint = tf.keras.callbacks.ModelCheckpoint('best_model.h5', save_best_only=True)\n",
    "\n",
    "tf_model.compile(optimizer=tf.keras.optimizers.Adam(learning_rate=lr),\n",
    "                 loss=tf.keras.losses.SparseCategoricalCrossentropy(from_logits=True),\n",
    "                 metrics=tf.metrics.SparseCategoricalAccuracy())\n",
    "\n",
    "tf_model.fit(tf_train_dataset, validation_data=tf_eval_dataset, epochs=epochs, callbacks=[lr_scheduler])\n",
    "\n",
    "end_time = time.time()\n",
    "elapsed_time = end_time - start_time\n",
    "\n",
    "print(f\"Execution time: {elapsed_time:.4f} seconds\")"
   ]
  },
  {
   "cell_type": "code",
   "execution_count": null,
   "id": "c748b7b4-e30c-4acc-b1ba-7efed2d2091c",
   "metadata": {},
   "outputs": [],
   "source": [
    "tf.keras.models.save_model(tf_model, filepath='my_model_kw', overwrite=True, save_format='tf')"
   ]
  },
  {
   "cell_type": "code",
   "execution_count": 95,
   "id": "b73be04d-56e4-415c-bde5-2d4ef3cd4f62",
   "metadata": {},
   "outputs": [
    {
     "ename": "SyntaxError",
     "evalue": "invalid decimal literal (1369303689.py, line 2)",
     "output_type": "error",
     "traceback": [
      "\u001b[1;36m  Cell \u001b[1;32mIn[95], line 2\u001b[1;36m\u001b[0m\n\u001b[1;33m    13/13 [==============================] - 2446s 187s/step - loss: 1.5735 - sparse_categorical_accuracy: 0.3375 - val_loss: 1.4097 - val_sparse_categorical_accuracy: 0.4000\u001b[0m\n\u001b[1;37m                                                ^\u001b[0m\n\u001b[1;31mSyntaxError\u001b[0m\u001b[1;31m:\u001b[0m invalid decimal literal\n"
     ]
    }
   ],
   "source": [
    "Epoch 1/2\n",
    "13/13 [==============================] - 2446s 187s/step - loss: 1.5735 - sparse_categorical_accuracy: 0.3375 - val_loss: 1.4097 - val_sparse_categorical_accuracy: 0.4000\n",
    "Epoch 2/2\n",
    "13/13 [==============================] - 2435s 186s/step - loss: 1.2820 - sparse_categorical_accuracy: 0.4812 - val_loss: 1.1416 - val_sparse_categorical_accuracy: 0.4800\n",
    "Execution time: 4881.4054 seconds"
   ]
  },
  {
   "cell_type": "code",
   "execution_count": null,
   "id": "cdc1ef90-19dc-4d8c-ab72-36c3872b97f0",
   "metadata": {},
   "outputs": [],
   "source": []
  },
  {
   "cell_type": "markdown",
   "id": "d1311a13-b495-47c3-bc55-c74cb36d33b8",
   "metadata": {},
   "source": [
    "loss, eval_accuracy = tf_model.evaluate(tf_eval_dataset)\n",
    "print(\"Loss: {}\\t Test Accuracy: {}\".format(loss, eval_accuracy))"
   ]
  },
  {
   "cell_type": "code",
   "execution_count": 71,
   "id": "3b5645ef-130b-4194-8025-328f11d76ee4",
   "metadata": {},
   "outputs": [
    {
     "name": "stdout",
     "output_type": "stream",
     "text": [
      "2/2 [==============================] - 20s 7s/step\n"
     ]
    }
   ],
   "source": [
    "output_logits = tf_model.predict(tf_eval_dataset).logits\n",
    "pred_labels = np.argmax(output_logits, axis=-1)"
   ]
  },
  {
   "cell_type": "code",
   "execution_count": 93,
   "id": "e7a846d9-f973-4b8b-bf0e-c72c2e8499cf",
   "metadata": {},
   "outputs": [
    {
     "name": "stdout",
     "output_type": "stream",
     "text": [
      "Accuracy: 0.4800\n",
      "Confusion Matrix:\n",
      "[[ 6  0  0  1  0]\n",
      " [ 4  0  0  7  0]\n",
      " [ 1  0  0 15  0]\n",
      " [ 1  0  0 22 10]\n",
      " [ 0  0  0 13 20]]\n"
     ]
    },
    {
     "data": {
      "image/png": "[encoded data removed]",
      "text/plain": [
       "<Figure size 640x480 with 2 Axes>"
      ]
     },
     "metadata": {},
     "output_type": "display_data"
    },
    {
     "name": "stdout",
     "output_type": "stream",
     "text": [
      "Classification Report:\n",
      "              precision    recall  f1-score   support\n",
      "\n",
      "           1       0.50      0.86      0.63         7\n",
      "           2       0.00      0.00      0.00        11\n",
      "           3       0.00      0.00      0.00        16\n",
      "           4       0.38      0.67      0.48        33\n",
      "           5       0.67      0.61      0.63        33\n",
      "\n",
      "    accuracy                           0.48       100\n",
      "   macro avg       0.31      0.43      0.35       100\n",
      "weighted avg       0.38      0.48      0.41       100\n",
      "\n"
     ]
    },
    {
     "name": "stderr",
     "output_type": "stream",
     "text": [
      "C:\\Users\\sitko\\anaconda3\\envs\\transformer\\Lib\\site-packages\\sklearn\\metrics\\_classification.py:1565: UndefinedMetricWarning: Precision is ill-defined and being set to 0.0 in labels with no predicted samples. Use `zero_division` parameter to control this behavior.\n",
      "  _warn_prf(average, modifier, f\"{metric.capitalize()} is\", len(result))\n",
      "C:\\Users\\sitko\\anaconda3\\envs\\transformer\\Lib\\site-packages\\sklearn\\metrics\\_classification.py:1565: UndefinedMetricWarning: Precision is ill-defined and being set to 0.0 in labels with no predicted samples. Use `zero_division` parameter to control this behavior.\n",
      "  _warn_prf(average, modifier, f\"{metric.capitalize()} is\", len(result))\n",
      "C:\\Users\\sitko\\anaconda3\\envs\\transformer\\Lib\\site-packages\\sklearn\\metrics\\_classification.py:1565: UndefinedMetricWarning: Precision is ill-defined and being set to 0.0 in labels with no predicted samples. Use `zero_division` parameter to control this behavior.\n",
      "  _warn_prf(average, modifier, f\"{metric.capitalize()} is\", len(result))\n"
     ]
    }
   ],
   "source": [
    "dataset_encoded.set_format(\"pandas\") \n",
    "cols = [\"Review\", \"Rating\"]\n",
    "df_test = dataset_encoded[\"validation\"][:][cols] \n",
    "df_test[\"Rating\"]\n",
    "df_test[\"predicted_label\"] = pred_labels\n",
    "df_test[\"predicted_label\"] = df_test[\"predicted_label\"]\n",
    "# Ensure df_test contains the true labels and predicted labels\n",
    "df_test[\"true_label\"] = df_test[\"Rating\"]\n",
    "\n",
    "# Calculate Accuracy\n",
    "accuracy = accuracy_score(df_test[\"true_label\"], df_test[\"predicted_label\"])\n",
    "print(f\"Accuracy: {accuracy:.4f}\")\n",
    "\n",
    "# Confusion Matrix\n",
    "cm = confusion_matrix(df_test[\"true_label\"], df_test[\"predicted_label\"])\n",
    "print(\"Confusion Matrix:\")\n",
    "print(cm)\n",
    "\n",
    "# Plot Confusion Matrix\n",
    "sns.heatmap(cm, annot=True, fmt=\"d\", cmap=\"Blues\", xticklabels=np.unique(df_test[\"true_label\"]), yticklabels=np.unique(df_test[\"true_label\"]))\n",
    "plt.xlabel('Predicted')\n",
    "plt.ylabel('True')\n",
    "plt.title('Confusion Matrix')\n",
    "plt.show()\n",
    "\n",
    "# Classification Report (Precision, Recall, F1-score)\n",
    "class_report = classification_report(df_test[\"true_label\"], df_test[\"predicted_label\"])\n",
    "print(\"Classification Report:\")\n",
    "print(class_report)"
   ]
  },
  {
   "cell_type": "code",
   "execution_count": 89,
   "id": "c06bff03-f0fe-4b1d-a033-7c276f97f86a",
   "metadata": {},
   "outputs": [
    {
     "ename": "NameError",
     "evalue": "name 'y_valid' is not defined",
     "output_type": "error",
     "traceback": [
      "\u001b[1;31m---------------------------------------------------------------------------\u001b[0m",
      "\u001b[1;31mNameError\u001b[0m                                 Traceback (most recent call last)",
      "Cell \u001b[1;32mIn[89], line 24\u001b[0m\n\u001b[0;32m     21\u001b[0m     fig, ax \u001b[38;5;241m=\u001b[39m plt\u001b[38;5;241m.\u001b[39msubplots(figsize\u001b[38;5;241m=\u001b[39mfigsize)\n\u001b[0;32m     22\u001b[0m     sns\u001b[38;5;241m.\u001b[39mheatmap(cm, cmap\u001b[38;5;241m=\u001b[39m \u001b[38;5;124m\"\u001b[39m\u001b[38;5;124mYlGnBu\u001b[39m\u001b[38;5;124m\"\u001b[39m, annot\u001b[38;5;241m=\u001b[39mannot, fmt\u001b[38;5;241m=\u001b[39m\u001b[38;5;124m'\u001b[39m\u001b[38;5;124m'\u001b[39m, ax\u001b[38;5;241m=\u001b[39max)\n\u001b[1;32m---> 24\u001b[0m df_eval \u001b[38;5;241m=\u001b[39m pd\u001b[38;5;241m.\u001b[39mDataFrame({\u001b[38;5;124m'\u001b[39m\u001b[38;5;124my_true\u001b[39m\u001b[38;5;124m'\u001b[39m: y_valid, \u001b[38;5;124m'\u001b[39m\u001b[38;5;124my_preds\u001b[39m\u001b[38;5;124m'\u001b[39m: y_preds})\n\u001b[0;32m     25\u001b[0m df_eval[\u001b[38;5;124m'\u001b[39m\u001b[38;5;124my_true\u001b[39m\u001b[38;5;124m'\u001b[39m] \u001b[38;5;241m=\u001b[39m (df_eval[\u001b[38;5;124m'\u001b[39m\u001b[38;5;124my_true\u001b[39m\u001b[38;5;124m'\u001b[39m])\n\u001b[0;32m     26\u001b[0m df_eval[\u001b[38;5;124m'\u001b[39m\u001b[38;5;124my_preds\u001b[39m\u001b[38;5;124m'\u001b[39m] \u001b[38;5;241m=\u001b[39m (df_eval[\u001b[38;5;124m'\u001b[39m\u001b[38;5;124my_preds\u001b[39m\u001b[38;5;124m'\u001b[39m])\n",
      "\u001b[1;31mNameError\u001b[0m: name 'y_valid' is not defined"
     ]
    }
   ],
   "source": [
    "def plot_cm(y_true, y_pred, figsize=(15, 15)):\n",
    "    cm = confusion_matrix(y_true, y_pred, labels=np.unique(y_true))\n",
    "    cm_sum = np.sum(cm, axis=1, keepdims=True)\n",
    "    cm_perc = cm / cm_sum.astype(float) * 100\n",
    "    annot = np.empty_like(cm).astype(str)\n",
    "    nrows, ncols = cm.shape\n",
    "    for i in range(nrows):\n",
    "        for j in range(ncols):\n",
    "            c = cm[i, j]\n",
    "            p = cm_perc[i, j]\n",
    "            if i == j:\n",
    "                s = cm_sum[i]\n",
    "                annot[i, j] = '%.1f%%\\n%d/%d' % (p, c, s)\n",
    "            elif c == 0:\n",
    "                annot[i, j] = ''\n",
    "            else:\n",
    "                annot[i, j] = '%.1f%%\\n%d' % (p, c)\n",
    "    cm = pd.DataFrame(cm, index=np.unique(y_true), columns=np.unique(y_true))\n",
    "    cm.index.name = 'Actual'\n",
    "    cm.columns.name = 'Predicted'\n",
    "    fig, ax = plt.subplots(figsize=figsize)\n",
    "    sns.heatmap(cm, cmap= \"YlGnBu\", annot=annot, fmt='', ax=ax)\n",
    "    \n",
    "df_eval = pd.DataFrame({'y_true': y_valid, 'y_preds': y_preds})\n",
    "df_eval['y_true'] = (df_eval['y_true'])\n",
    "df_eval['y_preds'] = (df_eval['y_preds'])"
   ]
  },
  {
   "cell_type": "code",
   "execution_count": null,
   "id": "0a85499b-ee9f-408b-9708-3aeba8dc05df",
   "metadata": {},
   "outputs": [],
   "source": []
  },
  {
   "cell_type": "code",
   "execution_count": null,
   "id": "a2b560d8-bc9b-4336-b763-c29b140cb028",
   "metadata": {},
   "outputs": [],
   "source": []
  },
  {
   "cell_type": "markdown",
   "id": "7235c7a7-cfb7-49ef-9649-8c46b8737412",
   "metadata": {},
   "source": [
    "# stop"
   ]
  },
  {
   "cell_type": "code",
   "execution_count": 47,
   "id": "19027ac3-6c75-4b74-85da-15fc861c0816",
   "metadata": {},
   "outputs": [
    {
     "name": "stdout",
     "output_type": "stream",
     "text": [
      "WARNING:tensorflow:From C:\\Users\\sitko\\anaconda3\\envs\\transformer\\Lib\\site-packages\\tf_keras\\src\\losses.py:2976: The name tf.losses.sparse_softmax_cross_entropy is deprecated. Please use tf.compat.v1.losses.sparse_softmax_cross_entropy instead.\n",
      "\n",
      "WARNING:tensorflow:From C:\\Users\\sitko\\anaconda3\\envs\\transformer\\Lib\\site-packages\\tf_keras\\src\\backend.py:873: The name tf.get_default_graph is deprecated. Please use tf.compat.v1.get_default_graph instead.\n",
      "\n"
     ]
    },
    {
     "name": "stderr",
     "output_type": "stream",
     "text": [
      "Some weights of the PyTorch model were not used when initializing the TF 2.0 model TFDistilBertModel: ['vocab_transform.bias', 'vocab_layer_norm.weight', 'vocab_projector.bias', 'vocab_layer_norm.bias', 'vocab_transform.weight']\n",
      "- This IS expected if you are initializing TFDistilBertModel from a PyTorch model trained on another task or with another architecture (e.g. initializing a TFBertForSequenceClassification model from a BertForPreTraining model).\n",
      "- This IS NOT expected if you are initializing TFDistilBertModel from a PyTorch model that you expect to be exactly identical (e.g. initializing a TFBertForSequenceClassification model from a BertForSequenceClassification model).\n",
      "All the weights of TFDistilBertModel were initialized from the PyTorch model.\n",
      "If your task is similar to the task the model of the checkpoint was trained on, you can already use TFDistilBertModel for predictions without further training.\n"
     ]
    }
   ],
   "source": [
    "tf_model = TFAutoModel.from_pretrained(model)\n",
    "tokenizer = AutoTokenizer.from_pretrained(model)"
   ]
  },
  {
   "cell_type": "code",
   "execution_count": 55,
   "id": "9d5729b2-a708-44f8-86d2-3d046f6bf07d",
   "metadata": {},
   "outputs": [
    {
     "name": "stderr",
     "output_type": "stream",
     "text": [
      "C:\\Users\\sitko\\anaconda3\\envs\\transformer\\Lib\\site-packages\\transformers\\generation\\tf_utils.py:465: UserWarning: `seed_generator` is deprecated and will be removed in a future version.\n",
      "  warnings.warn(\"`seed_generator` is deprecated and will be removed in a future version.\", UserWarning)\n"
     ]
    },
    {
     "data": {
      "application/vnd.jupyter.widget-view+json": {
       "model_id": "87666119ac7b4cc5ac57ce47a5ebc77a",
       "version_major": 2,
       "version_minor": 0
      },
      "text/plain": [
       "Map:   0%|          | 0/8 [00:00<?, ? examples/s]"
      ]
     },
     "metadata": {},
     "output_type": "display_data"
    },
    {
     "data": {
      "application/vnd.jupyter.widget-view+json": {
       "model_id": "a582c32bd8794e25a2618fae33433b82",
       "version_major": 2,
       "version_minor": 0
      },
      "text/plain": [
       "Map:   0%|          | 0/1 [00:00<?, ? examples/s]"
      ]
     },
     "metadata": {},
     "output_type": "display_data"
    },
    {
     "data": {
      "application/vnd.jupyter.widget-view+json": {
       "model_id": "4bfd9f7e32454bbb86a96b4f1d1156e3",
       "version_major": 2,
       "version_minor": 0
      },
      "text/plain": [
       "Map:   0%|          | 0/1 [00:00<?, ? examples/s]"
      ]
     },
     "metadata": {},
     "output_type": "display_data"
    }
   ],
   "source": [
    "# emotions_encoded.reset_format()\n",
    "\n",
    "def extract_hidden_states(batch):\n",
    "    # First convert text to tokens\n",
    "    inputs = tokenizer(batch[\"comments\"], padding=True, \n",
    "                       truncation=True, return_tensors='tf')\n",
    "    # Extract last hidden states\n",
    "    outputs = tf_model(inputs)\n",
    "     # Return vector for [CLS] token\n",
    "    return {\"hidden_state\": outputs.last_hidden_state[:,0].numpy()}\n",
    "\n",
    "dataset_hidden = dataset_encoded.map(extract_hidden_states, batched=True, batch_size=64)"
   ]
  },
  {
   "cell_type": "code",
   "execution_count": 58,
   "id": "949ef73b-07ee-46ed-808d-4fe29be23d06",
   "metadata": {},
   "outputs": [
    {
     "data": {
      "text/plain": [
       "DatasetDict({\n",
       "    train: Dataset({\n",
       "        features: ['listing_id', 'id', 'date', 'reviewer_id', 'reviewer_name', 'comments', 'input_ids', 'attention_mask', 'hidden_state'],\n",
       "        num_rows: 8\n",
       "    })\n",
       "    validation: Dataset({\n",
       "        features: ['listing_id', 'id', 'date', 'reviewer_id', 'reviewer_name', 'comments', 'input_ids', 'attention_mask', 'hidden_state'],\n",
       "        num_rows: 1\n",
       "    })\n",
       "    test: Dataset({\n",
       "        features: ['listing_id', 'id', 'date', 'reviewer_id', 'reviewer_name', 'comments', 'input_ids', 'attention_mask', 'hidden_state'],\n",
       "        num_rows: 1\n",
       "    })\n",
       "})"
      ]
     },
     "execution_count": 58,
     "metadata": {},
     "output_type": "execute_result"
    }
   ],
   "source": [
    "dataset_hidden"
   ]
  },
  {
   "cell_type": "code",
   "execution_count": null,
   "id": "d0ad75dc-26f0-46c5-b099-621b1f34dd19",
   "metadata": {},
   "outputs": [],
   "source": [
    "X_train = np.array(dataset_hidden[\"train\"][\"hidden_state\"])\n",
    "X_valid = np.array(dataset_hidden[\"validation\"][\"hidden_state\"])\n",
    "y_train = np.array(dataset_hidden[\"train\"][\"label\"])\n",
    "y_valid = np.array(dataset_hidden[\"validation\"][\"label\"])\n",
    "X_train.shape, X_valid.shape"
   ]
  },
  {
   "cell_type": "code",
   "execution_count": null,
   "id": "70fb6045-faf0-43d0-a0a9-18cc12aa1762",
   "metadata": {},
   "outputs": [],
   "source": []
  },
  {
   "cell_type": "code",
   "execution_count": null,
   "id": "afa5aab4-f4c6-4638-a544-a0beea79991a",
   "metadata": {},
   "outputs": [],
   "source": []
  },
  {
   "cell_type": "code",
   "execution_count": null,
   "id": "645fc029-9d2f-4b36-9c49-7b16f37c436e",
   "metadata": {},
   "outputs": [],
   "source": []
  },
  {
   "cell_type": "code",
   "execution_count": null,
   "id": "a8a83800-fd65-45b1-a786-d3f0d251f008",
   "metadata": {},
   "outputs": [],
   "source": [
    "# Outcome analysis \n",
    "\n",
    "df[\"label_name\"].value_counts(ascending=True).plot.barh()\n",
    "plt.title(\"Frequency of Classes\")\n",
    "plt.show()"
   ]
  }
 ],
 "metadata": {
  "kernelspec": {
   "display_name": "transformer",
   "language": "python",
   "name": "transformer"
  },
  "language_info": {
   "codemirror_mode": {
    "name": "ipython",
    "version": 3
   },
   "file_extension": ".py",
   "mimetype": "text/x-python",
   "name": "python",
   "nbconvert_exporter": "python",
   "pygments_lexer": "ipython3",
   "version": "3.11.11"
  }
 },
 "nbformat": 4,
 "nbformat_minor": 5
}
